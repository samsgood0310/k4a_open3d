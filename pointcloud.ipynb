{
 "cells": [
  {
   "cell_type": "code",
   "execution_count": 1,
   "metadata": {},
   "outputs": [],
   "source": [
    "import numpy as np\n",
    "import open3d as o3d"
   ]
  },
  {
   "cell_type": "code",
   "execution_count": 18,
   "metadata": {},
   "outputs": [],
   "source": [
    "class ViewerWithCallback:\n",
    "\n",
    "    def __init__(self, config, device, align_depth_to_color):\n",
    "        self.flag_exit = False\n",
    "        self.align_depth_to_color = align_depth_to_color\n",
    "\n",
    "        self.sensor = o3d.io.AzureKinectSensor(config)\n",
    "        if not self.sensor.connect(device):\n",
    "            raise RuntimeError('Failed to connect to sensor')\n",
    "\n",
    "        color = o3d.camera.PinholeCameraIntrinsicParameters.Kinect2ColorCameraDefault\n",
    "        depth = o3d.camera.PinholeCameraIntrinsicParameters.Kinect2DepthCameraDefault\n",
    "        self.intrinsic = o3d.camera.PinholeCameraIntrinsic(color if align_depth_to_color else depth)\n",
    "        self.extrinsic = o3d.camera.PinholeCameraParameters().extrinsic\n",
    "            \n",
    "    def __del__(self):\n",
    "        del self.sensor\n",
    "            \n",
    "    def escape_callback(self, vis):\n",
    "        self.flag_exit = True\n",
    "        return False\n",
    "    \n",
    "    def run(self):        \n",
    "        self.flag_exit = False        \n",
    "\n",
    "        glfw_key_escape = 256\n",
    "        vis = o3d.visualization.VisualizerWithKeyCallback()\n",
    "        vis.register_key_callback(glfw_key_escape, self.escape_callback)\n",
    "        vis.create_window('viewer', 1920, 540)\n",
    "        print(\"Sensor initialized. Press [ESC] to exit.\")\n",
    "        \n",
    "        \n",
    "        pcd = o3d.geometry.PointCloud()\n",
    "        \n",
    "        d = self.sensor.capture_frame(self.align_depth_to_color).depth\n",
    "        tmp = o3d.geometry.PointCloud.create_from_depth_image(d, self.intrinsic)\n",
    "        vis.add_geometry(tmp, True)\n",
    "        vis.remove_geometry(tmp, False)\n",
    "        \n",
    "        vis_geometry_added = False\n",
    "        while not self.flag_exit:\n",
    "            rgbd = self.sensor.capture_frame(self.align_depth_to_color)\n",
    "            if rgbd is None:\n",
    "                continue\n",
    "            \n",
    "            if vis_geometry_added:\n",
    "                vis.remove_geometry(pcd, False)\n",
    "                vis_geometry_added = False\n",
    "                \n",
    "            if not vis_geometry_added:\n",
    "                pcd = o3d.geometry.PointCloud.create_from_depth_image(rgbd.depth, self.intrinsic)\n",
    "                vis.add_geometry(pcd, False)\n",
    "                vis_geometry_added = True\n",
    "\n",
    "            vis.update_geometry(pcd)\n",
    "            vis.poll_events()\n",
    "            vis.update_renderer()"
   ]
  },
  {
   "cell_type": "code",
   "execution_count": 20,
   "metadata": {},
   "outputs": [
    {
     "name": "stdout",
     "output_type": "stream",
     "text": [
      "[Open3D INFO] AzureKinectSensor::Connect\n",
      "[Open3D INFO] sensor_index 0\n",
      "[Open3D INFO] Serial number: 000489792412\n",
      "[Open3D INFO] Firmware build: Rel\n",
      "[Open3D INFO] > Color: 1.6.108\n",
      "[Open3D INFO] > Depth: 1.6.79[6109.7]\n"
     ]
    }
   ],
   "source": [
    "config = o3d.io.AzureKinectSensorConfig()\n",
    "v = ViewerWithCallback(config, 0, False)"
   ]
  },
  {
   "cell_type": "code",
   "execution_count": 21,
   "metadata": {},
   "outputs": [
    {
     "name": "stdout",
     "output_type": "stream",
     "text": [
      "Sensor initialized. Press [ESC] to exit.\n"
     ]
    }
   ],
   "source": [
    "v.run()"
   ]
  },
  {
   "cell_type": "code",
   "execution_count": 22,
   "metadata": {},
   "outputs": [],
   "source": [
    "# Reset viewer\n",
    "del v"
   ]
  },
  {
   "cell_type": "code",
   "execution_count": null,
   "metadata": {},
   "outputs": [],
   "source": []
  }
 ],
 "metadata": {
  "kernelspec": {
   "display_name": "Python 3",
   "language": "python",
   "name": "python3"
  },
  "language_info": {
   "codemirror_mode": {
    "name": "ipython",
    "version": 3
   },
   "file_extension": ".py",
   "mimetype": "text/x-python",
   "name": "python",
   "nbconvert_exporter": "python",
   "pygments_lexer": "ipython3",
   "version": "3.7.7"
  }
 },
 "nbformat": 4,
 "nbformat_minor": 4
}
