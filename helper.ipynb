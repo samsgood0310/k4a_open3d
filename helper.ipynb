{
 "cells": [
  {
   "cell_type": "code",
   "execution_count": null,
   "metadata": {},
   "outputs": [],
   "source": [
    "# helper functions to get intrinsic_matrix from .mkv file\n",
    "\n",
    "def export(file):\n",
    "    abspath = os.path.abspath(file)\n",
    "    reader = o3d.io.AzureKinectMKVReader()\n",
    "    reader.open(abspath)\n",
    "    if not reader.is_opened():\n",
    "        raise RuntimeError(\"Unable to open file {}\".format(abspath))\n",
    "\n",
    "    metadata = reader.get_metadata()\n",
    "    o3d.io.write_azure_kinect_mkv_metadata('./settings.json', metadata)\n",
    "\n",
    "    reader.close()\n",
    "\n",
    "def get_intrinsic_matrix(file):    \n",
    "    abspath = os.path.abspath(file)\n",
    "    if not os.path.exists(abspath):\n",
    "        raise RuntimeError(\"Unable to load file {}\".format(abspath))\n",
    "\n",
    "    with open(abspath, 'r') as f:\n",
    "        data = json.load(f)\n",
    "        return data['intrinsic_matrix']\n",
    "    \n",
    "#export('./output.mkv')\n",
    "#intrinsic = get_intrinsic_matrix('./settings.json')"
   ]
  }
 ],
 "metadata": {
  "kernelspec": {
   "display_name": "Python 3",
   "language": "python",
   "name": "python3"
  },
  "language_info": {
   "codemirror_mode": {
    "name": "ipython",
    "version": 3
   },
   "file_extension": ".py",
   "mimetype": "text/x-python",
   "name": "python",
   "nbconvert_exporter": "python",
   "pygments_lexer": "ipython3",
   "version": "3.7.7"
  }
 },
 "nbformat": 4,
 "nbformat_minor": 4
}
